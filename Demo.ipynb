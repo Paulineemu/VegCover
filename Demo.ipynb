{
 "cells": [
  {
   "cell_type": "markdown",
   "id": "ed0480a6-641f-49fb-a439-89de2a24ef67",
   "metadata": {},
   "source": [
    "# Demo for running the code for the manuscript \"Title of the manusc\"\n",
    "This demo is intended to be used as an example of the main steps including:\n",
    "- training: ...\n",
    "- inference: ...\n",
    "- evaluation:...."
   ]
  },
  {
   "cell_type": "markdown",
   "id": "0b10d492-ecf6-4de4-be68-ef8071b52b89",
   "metadata": {},
   "source": [
    "## Setup the environment"
   ]
  },
  {
   "cell_type": "code",
   "execution_count": null,
   "id": "a52cf66f-2a31-4cf8-916f-6f6417ca5487",
   "metadata": {},
   "outputs": [],
   "source": [
    "import ultralytics\n",
    "from ultralytics import YOLO\n",
    "\n",
    "import cv2\n",
    "import numpy as np\n",
    "import os\n",
    "import pandas as pd\n",
    "import shutil\n",
    "import random\n",
    "\n",
    "import matplotlib.pyplot as plt\n",
    "\n",
    "# import function to predict on raw images and estimate percentage cover per species \n",
    "from functions import predict_cover, validate_cover\n"
   ]
  },
  {
   "cell_type": "markdown",
   "id": "1d575685-98ef-45e8-b120-e76f6ab13601",
   "metadata": {},
   "source": [
    "## Training\n",
    "bla bla bla"
   ]
  },
  {
   "cell_type": "code",
   "execution_count": 1,
   "id": "70363288-c59c-410f-8def-7a7e9b219102",
   "metadata": {},
   "outputs": [],
   "source": [
    "\n",
    "###################################\n",
    "### Train frame detection model ###\n",
    "###################################\n",
    "\n",
    "# path to training data for frame detection model \n",
    "path_to_data_frame=\"path_to/project_location\" # path to the root where you have the yaml and the images and labels subfolder\n"
   ]
  },
  {
   "cell_type": "markdown",
   "id": "a582a10f-cac3-4754-8ebf-9574269debcb",
   "metadata": {},
   "source": [
    "### Structure of the folder for training the model\n",
    "-root\n",
    "      -images\n",
    "              -img_1.jpeg\n",
    "              -img_2.jpeg\n",
    "              -...\n",
    "      -labels\n",
    "              -img_1.txt\n",
    "              -img_2.txt\n",
    "              -...\n",
    "      -dataset.yaml\n",
    "              -names:\n",
    "                0: class1\n",
    "                1: class2\n",
    "                ...\n",
    "              -path: /content/data/project_title\n",
    "              -train: train.txt\n",
    "              -val: val.txt\n",
    "      -train.txt\n",
    "              -./images/img_1.jpg\n",
    "      -val.txt\n",
    "              -./images/img_2.jpg\n"
   ]
  },
  {
   "cell_type": "code",
   "execution_count": 2,
   "id": "a3e6a1d4-51c3-4eb3-a0cd-e281b42fe10d",
   "metadata": {},
   "outputs": [
    {
     "name": "stderr",
     "output_type": "stream",
     "text": [
      "Traceback (most recent call last):\n",
      "  File \"C:\\Users\\stpu\\Anaconda3\\envs\\deepField\\lib\\runpy.py\", line 196, in _run_module_as_main\n",
      "    return _run_code(code, main_globals, None,\n",
      "  File \"C:\\Users\\stpu\\Anaconda3\\envs\\deepField\\lib\\runpy.py\", line 86, in _run_code\n",
      "    exec(code, run_globals)\n",
      "  File \"C:\\Users\\stpu\\Anaconda3\\envs\\deepField\\Scripts\\yolo.exe\\__main__.py\", line 4, in <module>\n",
      "  File \"C:\\Users\\stpu\\Anaconda3\\envs\\deepField\\lib\\site-packages\\ultralytics\\__init__.py\", line 10, in <module>\n",
      "    from ultralytics.data.explorer.explorer import Explorer\n",
      "  File \"C:\\Users\\stpu\\Anaconda3\\envs\\deepField\\lib\\site-packages\\ultralytics\\data\\__init__.py\", line 3, in <module>\n",
      "    from .base import BaseDataset\n",
      "  File \"C:\\Users\\stpu\\Anaconda3\\envs\\deepField\\lib\\site-packages\\ultralytics\\data\\base.py\", line 15, in <module>\n",
      "    from torch.utils.data import Dataset\n",
      "  File \"C:\\Users\\stpu\\Anaconda3\\envs\\deepField\\lib\\site-packages\\torch\\__init__.py\", line 148, in <module>\n",
      "    raise err\n",
      "OSError: [WinError 126] The specified module could not be found. Error loading \"C:\\Users\\stpu\\Anaconda3\\envs\\deepField\\lib\\site-packages\\torch\\lib\\fbgemm.dll\" or one of its dependencies.\n",
      "Traceback (most recent call last):\n",
      "  File \"C:\\Users\\stpu\\Anaconda3\\envs\\deepField\\lib\\runpy.py\", line 196, in _run_module_as_main\n",
      "    return _run_code(code, main_globals, None,\n",
      "  File \"C:\\Users\\stpu\\Anaconda3\\envs\\deepField\\lib\\runpy.py\", line 86, in _run_code\n",
      "    exec(code, run_globals)\n",
      "  File \"C:\\Users\\stpu\\Anaconda3\\envs\\deepField\\Scripts\\yolo.exe\\__main__.py\", line 4, in <module>\n",
      "  File \"C:\\Users\\stpu\\Anaconda3\\envs\\deepField\\lib\\site-packages\\ultralytics\\__init__.py\", line 10, in <module>\n",
      "    from ultralytics.data.explorer.explorer import Explorer\n",
      "  File \"C:\\Users\\stpu\\Anaconda3\\envs\\deepField\\lib\\site-packages\\ultralytics\\data\\__init__.py\", line 3, in <module>\n",
      "    from .base import BaseDataset\n",
      "  File \"C:\\Users\\stpu\\Anaconda3\\envs\\deepField\\lib\\site-packages\\ultralytics\\data\\base.py\", line 15, in <module>\n",
      "    from torch.utils.data import Dataset\n",
      "  File \"C:\\Users\\stpu\\Anaconda3\\envs\\deepField\\lib\\site-packages\\torch\\__init__.py\", line 148, in <module>\n",
      "    raise err\n",
      "OSError: [WinError 126] The specified module could not be found. Error loading \"C:\\Users\\stpu\\Anaconda3\\envs\\deepField\\lib\\site-packages\\torch\\lib\\fbgemm.dll\" or one of its dependencies.\n"
     ]
    }
   ],
   "source": [
    "\n",
    "# Set YOLO parameters\n",
    "IM_SIZE = 640 # Image size for training\n",
    "N_EPOCHS = 50 # Number of epochs for training\n",
    "BATCH_SIZE = 4 # Batch size for training\n",
    "MODEL = 'yolov8n.pt' # Choose pretrained YOLO model version and size\n",
    "\n",
    "# Train frame detection model\n",
    "!yolo task=detect mode=train model=$MODEL data=\"{path_to_data_frame}/dataset.yaml\", epochs=$N_EPOCHS, imgsz=$IM_SIZE, batch=$BATCH_SIZE, project=path_to_data_frame, name=\"species_detector_imgsz\"+str(IM_SIZE)+\"_modelSizeN\"\n",
    "\n",
    "# Construct the path to the trained model's best weights\n",
    "trained_model_path_frame = f'{path_to_data_frame}/species_detector_imgsz{IM_SIZE}_modelSizeN/weights/best.pt'\n",
    "\n",
    "########################################\n",
    "### Train species segmentation model ###\n",
    "########################################\n",
    "\n",
    "# path to training data for species segmentation model \n",
    "path_to_data_species=\"path_to/project_location\" # path to the root where you have the yaml and the images and labels subfolder\n",
    "\n",
    "# Train species segmentation model\n",
    "!yolo task=segment mode=train model=$MODEL data=\"{path_to_data_species}/dataset.yaml\", epochs=$N_EPOCHS, imgsz=$IM_SIZE, batch=$BATCH_SIZE, project=path_to_data_species, name=\"species_detector_imgsz\"+str(IM_SIZE)+\"_modelSizeN\"\n",
    "\n",
    "# Construct the path to the trained model's best weights\n",
    "trained_model_path_species = f'{path_to_data_species}/species_detector_imgsz{IM_SIZE}_modelSizeN/weights/best.pt'"
   ]
  },
  {
   "cell_type": "markdown",
   "id": "e0e88f9e-0b7c-497b-842d-b393244422f2",
   "metadata": {},
   "source": [
    "## Inference\n",
    "bla bla bla"
   ]
  },
  {
   "cell_type": "code",
   "execution_count": null,
   "id": "920558da-84c9-4b63-b47b-2cac4a9ee08c",
   "metadata": {},
   "outputs": [],
   "source": [
    "# path to raw images \n",
    "path_to_data_images = \"path_to/images\" # path to the folder containing the photos taken in the field\n",
    "\n",
    "# predict on raw images \n",
    "predict_cover(path_to_data_images, path_to_model_frame=trained_model_path_frame, name_frame_class=\"frame\", # parameter for cropping to frame\n",
    "            path_to_model_species=trained_model_path_species, conf_treshold=0.10,                     # parameter for species segmentation\n",
    "            number_of_classes=2)                                                                    # parameter for calculating percentage cover\n"
   ]
  },
  {
   "cell_type": "markdown",
   "id": "ef8e0c5e-d923-44d8-95b0-3d129689f0e3",
   "metadata": {},
   "source": [
    "## Evaluation\n",
    "bla bla bla"
   ]
  },
  {
   "cell_type": "code",
   "execution_count": null,
   "id": "b385f3d1-6cea-4fb0-a395-a282c052178a",
   "metadata": {},
   "outputs": [],
   "source": [
    "validate(field_data, # (str) path to field estimations of coverage by fieldworkers\n",
    "         predictions, # (str) path to predicted coverage\n",
    "         image_ID_column, # (str) column which exists in both datasets (Image ID)\n",
    "         classes_to_include, # (lst) column names of classes to include in the validation (must be the same in field and prediction dataset)\n",
    "         names_of_classes, # (lst) names to be used in the legend of the scatterplot\n",
    "         colors) # (lst) colours to be used in the scatterplot"
   ]
  }
 ],
 "metadata": {
  "kernelspec": {
   "display_name": "Python 3 (ipykernel)",
   "language": "python",
   "name": "python3"
  },
  "language_info": {
   "codemirror_mode": {
    "name": "ipython",
    "version": 3
   },
   "file_extension": ".py",
   "mimetype": "text/x-python",
   "name": "python",
   "nbconvert_exporter": "python",
   "pygments_lexer": "ipython3",
   "version": "3.10.14"
  }
 },
 "nbformat": 4,
 "nbformat_minor": 5
}
